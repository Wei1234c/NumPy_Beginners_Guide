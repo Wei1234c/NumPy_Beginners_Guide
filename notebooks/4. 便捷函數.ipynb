{
 "cells": [
  {
   "cell_type": "markdown",
   "metadata": {},
   "source": [
    "# 4. 便捷函數"
   ]
  },
  {
   "cell_type": "code",
   "execution_count": 2,
   "metadata": {
    "collapsed": false
   },
   "outputs": [
    {
     "name": "stdout",
     "output_type": "stream",
     "text": [
      "Populating the interactive namespace from numpy and matplotlib\n"
     ]
    }
   ],
   "source": [
    "%pylab inline"
   ]
  },
  {
   "cell_type": "markdown",
   "metadata": {
    "collapsed": true
   },
   "source": [
    "## 4.2 相關性分析"
   ]
  },
  {
   "cell_type": "code",
   "execution_count": 8,
   "metadata": {
    "collapsed": false
   },
   "outputs": [
    {
     "data": {
      "text/plain": [
       "array([ 0.02048656, -0.01129235, -0.01332487])"
      ]
     },
     "execution_count": 8,
     "metadata": {},
     "output_type": "execute_result"
    }
   ],
   "source": [
    "bhp  = np.loadtxt('BHP.csv', delimiter=',', usecols=(6,), unpack=True)\n",
    "bhp_returns = np.diff(bhp) / bhp[ : -1]\n",
    "bhp_returns[:3]"
   ]
  },
  {
   "cell_type": "code",
   "execution_count": 9,
   "metadata": {
    "collapsed": false
   },
   "outputs": [
    {
     "data": {
      "text/plain": [
       "array([ 0.02211231,  0.00028466,  0.00483779])"
      ]
     },
     "execution_count": 9,
     "metadata": {},
     "output_type": "execute_result"
    }
   ],
   "source": [
    "vale  = np.loadtxt('VALE.csv', delimiter=',', usecols=(6,), unpack=True)\n",
    "vale_returns = np.diff(vale) / vale[ : -1]\n",
    "vale_returns[:3]"
   ]
  },
  {
   "cell_type": "code",
   "execution_count": 10,
   "metadata": {
    "collapsed": false
   },
   "outputs": [
    {
     "data": {
      "text/plain": [
       "array([[ 0.00028179,  0.00019766],\n",
       "       [ 0.00019766,  0.00030123]])"
      ]
     },
     "execution_count": 10,
     "metadata": {},
     "output_type": "execute_result"
    }
   ],
   "source": [
    "covariance = np.cov(bhp_returns, vale_returns)\n",
    "covariance"
   ]
  },
  {
   "cell_type": "code",
   "execution_count": 11,
   "metadata": {
    "collapsed": false
   },
   "outputs": [
    {
     "data": {
      "text/plain": [
       "array([ 0.00028179,  0.00030123])"
      ]
     },
     "execution_count": 11,
     "metadata": {},
     "output_type": "execute_result"
    }
   ],
   "source": [
    "covariance.diagonal()"
   ]
  },
  {
   "cell_type": "code",
   "execution_count": 12,
   "metadata": {
    "collapsed": false
   },
   "outputs": [
    {
     "data": {
      "text/plain": [
       "0.00058302354992027805"
      ]
     },
     "execution_count": 12,
     "metadata": {},
     "output_type": "execute_result"
    }
   ],
   "source": [
    "covariance.trace()"
   ]
  },
  {
   "cell_type": "code",
   "execution_count": 13,
   "metadata": {
    "collapsed": false
   },
   "outputs": [
    {
     "name": "stdout",
     "output_type": "stream",
     "text": [
      "correlation = [[ 1.00173366  0.70264666]\n",
      " [ 0.70264666  1.0708476 ]]\n"
     ]
    }
   ],
   "source": [
    "print('correlation = {}'.format(covariance / (bhp_returns.std() * vale_returns.std()) ))"
   ]
  },
  {
   "cell_type": "code",
   "execution_count": 14,
   "metadata": {
    "collapsed": false
   },
   "outputs": [
    {
     "name": "stdout",
     "output_type": "stream",
     "text": [
      "correlation  coefficience = [[ 1.          0.67841747]\n",
      " [ 0.67841747  1.        ]]\n"
     ]
    }
   ],
   "source": [
    "print('correlation  coefficience = {}'.format(np.corrcoef(bhp_returns, vale_returns )))"
   ]
  },
  {
   "cell_type": "code",
   "execution_count": 15,
   "metadata": {
    "collapsed": true
   },
   "outputs": [],
   "source": [
    "t = np.arange(len(bhp_returns))"
   ]
  },
  {
   "cell_type": "code",
   "execution_count": 23,
   "metadata": {
    "collapsed": false
   },
   "outputs": [
    {
     "data": {
      "image/png": "[encoded data removed]",
      "text/plain": [
       "<matplotlib.figure.Figure at 0x7f4b75743ba8>"
      ]
     },
     "metadata": {},
     "output_type": "display_data"
    }
   ],
   "source": [
    "plt.plot(t, bhp_returns, lw = 1)\n",
    "plt.plot(t, vale_returns, lw = 2)\n",
    "plt.show()"
   ]
  },
  {
   "cell_type": "markdown",
   "metadata": {},
   "source": [
    "## 4.4 多項式擬合"
   ]
  },
  {
   "cell_type": "code",
   "execution_count": 46,
   "metadata": {
    "collapsed": false
   },
   "outputs": [],
   "source": [
    "bhp  = np.loadtxt('BHP.csv', delimiter=',', usecols=(6,), unpack=True)"
   ]
  },
  {
   "cell_type": "code",
   "execution_count": 54,
   "metadata": {
    "collapsed": false
   },
   "outputs": [
    {
     "data": {
      "text/plain": [
       "array([  8.46787476e-07,   3.66997637e-04,  -2.07188497e-02,\n",
       "         3.32762563e-01,  -1.76618780e+00,   9.56618680e+01])"
      ]
     },
     "execution_count": 54,
     "metadata": {},
     "output_type": "execute_result"
    }
   ],
   "source": [
    "poly = np.polyfit(t, bhp[:-1],  5)\n",
    "poly"
   ]
  },
  {
   "cell_type": "code",
   "execution_count": 55,
   "metadata": {
    "collapsed": false
   },
   "outputs": [
    {
     "name": "stdout",
     "output_type": "stream",
     "text": [
      "next 95.92275036840557\n"
     ]
    }
   ],
   "source": [
    "print('next {}'.format(np.polyval(poly, t[-1] + 1)))"
   ]
  },
  {
   "cell_type": "code",
   "execution_count": 56,
   "metadata": {
    "collapsed": false
   },
   "outputs": [
    {
     "data": {
      "text/plain": [
       "array([-485.48564731 +0.j        ,   29.92899985+13.05876316j,\n",
       "         29.92899985-13.05876316j,   -3.88614362+14.25236139j,\n",
       "         -3.88614362-14.25236139j])"
      ]
     },
     "execution_count": 56,
     "metadata": {},
     "output_type": "execute_result"
    }
   ],
   "source": [
    "np.roots(poly)"
   ]
  },
  {
   "cell_type": "code",
   "execution_count": 57,
   "metadata": {
    "collapsed": false
   },
   "outputs": [
    {
     "data": {
      "text/plain": [
       "array([  4.23393738e-06,   1.46799055e-03,  -6.21565492e-02,\n",
       "         6.65525126e-01,  -1.76618780e+00])"
      ]
     },
     "execution_count": 57,
     "metadata": {},
     "output_type": "execute_result"
    }
   ],
   "source": [
    "der = np.polyder(poly)\n",
    "der"
   ]
  },
  {
   "cell_type": "code",
   "execution_count": 58,
   "metadata": {
    "collapsed": false
   },
   "outputs": [
    {
     "data": {
      "text/plain": [
       "array([-385.83217907,   23.76678708,   11.33057231,    4.01487179])"
      ]
     },
     "execution_count": 58,
     "metadata": {},
     "output_type": "execute_result"
    }
   ],
   "source": [
    "estremes = np.roots(der)\n",
    "estremes"
   ]
  },
  {
   "cell_type": "code",
   "execution_count": 59,
   "metadata": {
    "collapsed": false
   },
   "outputs": [
    {
     "data": {
      "text/plain": [
       "array([ 95.66186797,  94.20809173,  93.30069089,  92.82869128,\n",
       "        92.69012991,  92.79215657,  93.05113546,  93.39274679,\n",
       "        93.75208839,  94.07377736,  94.31205165,  94.43087166,\n",
       "        94.4040219 ,  94.21521259,  93.85818126,  93.33679435,\n",
       "        92.66514888,  91.86767401,  90.97923269,  90.04522323,\n",
       "        89.12168099,  88.27537991,  87.58393417,  87.13589982,\n",
       "        87.03087635,  87.37960834,  88.30408704,  89.93765203,  92.42509279])"
      ]
     },
     "execution_count": 59,
     "metadata": {},
     "output_type": "execute_result"
    }
   ],
   "source": [
    "values = np.polyval(poly, t)\n",
    "values"
   ]
  },
  {
   "cell_type": "code",
   "execution_count": 60,
   "metadata": {
    "collapsed": false
   },
   "outputs": [
    {
     "data": {
      "image/png": "[encoded data removed]",
      "text/plain": [
       "<matplotlib.figure.Figure at 0x7f4b7578ea90>"
      ]
     },
     "metadata": {},
     "output_type": "display_data"
    }
   ],
   "source": [
    "plot(t, bhp[:-1], lw = 1)\n",
    "plot(t, np.polyval(poly, t), lw = 2)\n",
    "# plot(t, np.polyval(der, t), lw = 3)\n",
    "# plot(estremes, np.zeros(4), color = 'red')\n",
    "show()"
   ]
  },
  {
   "cell_type": "markdown",
   "metadata": {},
   "source": [
    "## 4.6 成交量(volume) (OBV, On-Balance Volume)"
   ]
  },
  {
   "cell_type": "code",
   "execution_count": 61,
   "metadata": {
    "collapsed": true
   },
   "outputs": [],
   "source": [
    "c, v  = np.loadtxt('BHP.csv', delimiter=',', usecols=(6, 7), unpack=True)"
   ]
  },
  {
   "cell_type": "code",
   "execution_count": 69,
   "metadata": {
    "collapsed": false
   },
   "outputs": [
    {
     "data": {
      "text/plain": [
       "array([ 1.92, -1.08, -1.26,  0.63, -1.54, -0.28,  0.25, -0.6 ,  2.15,\n",
       "        0.69, -1.33,  1.16,  1.59, -0.26, -1.29, -0.13, -2.12, -3.91,\n",
       "        1.28, -0.57, -2.07, -2.07,  2.5 ,  1.18,  1.03, -0.88,  1.31,\n",
       "        1.24, -0.59])"
      ]
     },
     "execution_count": 69,
     "metadata": {},
     "output_type": "execute_result"
    }
   ],
   "source": [
    "changes = np.diff(c)\n",
    "changes"
   ]
  },
  {
   "cell_type": "code",
   "execution_count": 70,
   "metadata": {
    "collapsed": false
   },
   "outputs": [
    {
     "data": {
      "text/plain": [
       "array([ 1., -1., -1.,  1., -1., -1.,  1., -1.,  1.,  1., -1.,  1.,  1.,\n",
       "       -1., -1., -1., -1., -1.,  1., -1., -1., -1.,  1.,  1.,  1., -1.,\n",
       "        1.,  1., -1.])"
      ]
     },
     "execution_count": 70,
     "metadata": {},
     "output_type": "execute_result"
    }
   ],
   "source": [
    "signs = np.sign(changes)\n",
    "signs"
   ]
  },
  {
   "cell_type": "code",
   "execution_count": 71,
   "metadata": {
    "collapsed": false
   },
   "outputs": [
    {
     "data": {
      "text/plain": [
       "array([ 1., -1., -1.,  1., -1., -1.,  1., -1.,  1.,  1., -1.,  1.,  1.,\n",
       "       -1., -1., -1., -1., -1.,  1., -1., -1., -1.,  1.,  1.,  1., -1.,\n",
       "        1.,  1., -1.])"
      ]
     },
     "execution_count": 71,
     "metadata": {},
     "output_type": "execute_result"
    }
   ],
   "source": [
    "pieces = np.piecewise(changes, [changes < 0, changes > 0], [-1, 1])\n",
    "pieces"
   ]
  },
  {
   "cell_type": "code",
   "execution_count": 75,
   "metadata": {
    "collapsed": false
   },
   "outputs": [
    {
     "data": {
      "text/plain": [
       "True"
      ]
     },
     "execution_count": 75,
     "metadata": {},
     "output_type": "execute_result"
    }
   ],
   "source": [
    "np.array_equal(signs, pieces)"
   ]
  },
  {
   "cell_type": "code",
   "execution_count": 76,
   "metadata": {
    "collapsed": false
   },
   "outputs": [
    {
     "data": {
      "text/plain": [
       "array([ 2620800., -2461300., -3270900.,  2650200., -4667300., -5359800.,\n",
       "        7768400., -4799100.,  3448300.,  4719800., -3898900.,  3727700.,\n",
       "        3379400., -2463900., -3590900., -3805000., -3271700., -5507800.,\n",
       "        2996800., -3434800., -5008300., -7809799.,  3947100.,  3809700.,\n",
       "        3098200., -3500200.,  4285600.,  3918800., -3632200.])"
      ]
     },
     "execution_count": 76,
     "metadata": {},
     "output_type": "execute_result"
    }
   ],
   "source": [
    "obv = v[1:] * signs\n",
    "obv"
   ]
  },
  {
   "cell_type": "markdown",
   "metadata": {},
   "source": [
    "## 4.8 避免使用循環"
   ]
  },
  {
   "cell_type": "code",
   "execution_count": 88,
   "metadata": {
    "collapsed": true
   },
   "outputs": [],
   "source": [
    "o, h, l, c = np.loadtxt('BHP.csv', delimiter=',', usecols=(3, 4, 5, 6), unpack=True)"
   ]
  },
  {
   "cell_type": "code",
   "execution_count": 92,
   "metadata": {
    "collapsed": true
   },
   "outputs": [],
   "source": [
    "def calc_profit(open, high, low, close):\n",
    "    buy = open * float(1)\n",
    "    if low < buy < high:\n",
    "        return (close - buy) /buy\n",
    "    else:\n",
    "        return 0 "
   ]
  },
  {
   "cell_type": "code",
   "execution_count": 93,
   "metadata": {
    "collapsed": false
   },
   "outputs": [],
   "source": [
    "func = np.vectorize(calc_profit)"
   ]
  },
  {
   "cell_type": "code",
   "execution_count": 94,
   "metadata": {
    "collapsed": false
   },
   "outputs": [
    {
     "data": {
      "text/plain": [
       "array([ 0.00655139,  0.01131437,  0.00116464,  0.00679832,  0.01381543,\n",
       "        0.00054148, -0.01105862,  0.00467747, -0.00714131,  0.00459991,\n",
       "       -0.00221496, -0.01872699,  0.00575141,  0.0012513 , -0.00374532,\n",
       "       -0.02113771,  0.00661545, -0.00774693, -0.00775281,  0.01529918,\n",
       "        0.00964047,  0.02802081, -0.01656818,  0.00068713, -0.01083436,\n",
       "       -0.00599135, -0.00882682,  0.005024  ,  0.00440238,  0.00276488])"
      ]
     },
     "execution_count": 94,
     "metadata": {},
     "output_type": "execute_result"
    }
   ],
   "source": [
    "profits = func(o, h, l, c)\n",
    "profits"
   ]
  },
  {
   "cell_type": "code",
   "execution_count": 101,
   "metadata": {
    "collapsed": false
   },
   "outputs": [
    {
     "data": {
      "text/plain": [
       "-1.01"
      ]
     },
     "execution_count": 101,
     "metadata": {},
     "output_type": "execute_result"
    }
   ],
   "source": [
    "round( 100 * np.average(profits[profits < 0]), 2)"
   ]
  },
  {
   "cell_type": "markdown",
   "metadata": {},
   "source": [
    "## 4.10 使用 hanning 函數平滑數據"
   ]
  },
  {
   "cell_type": "code",
   "execution_count": 106,
   "metadata": {
    "collapsed": false
   },
   "outputs": [
    {
     "data": {
      "text/plain": [
       "array([ 0.        ,  0.1882551 ,  0.61126047,  0.95048443,  0.95048443,\n",
       "        0.61126047,  0.1882551 ,  0.        ])"
      ]
     },
     "execution_count": 106,
     "metadata": {},
     "output_type": "execute_result"
    }
   ],
   "source": [
    "N = 8\n",
    "weights = np.hanning(N)\n",
    "weights"
   ]
  },
  {
   "cell_type": "code",
   "execution_count": 136,
   "metadata": {
    "collapsed": true
   },
   "outputs": [],
   "source": [
    "bhp_returns = np.diff(bhp) / bhp[:-1]\n",
    "smooth_bhp = np.convolve(weights / weights.sum(), bhp_returns)"
   ]
  },
  {
   "cell_type": "code",
   "execution_count": 137,
   "metadata": {
    "collapsed": false
   },
   "outputs": [
    {
     "data": {
      "image/png": "[encoded data removed]",
      "text/plain": [
       "<matplotlib.figure.Figure at 0x7f4b75cb3320>"
      ]
     },
     "metadata": {},
     "output_type": "display_data"
    }
   ],
   "source": [
    "# 多項式擬合\n",
    "K = 5\n",
    "t = np.arange(N -1, len(bhp_returns))\n",
    "poly = np.polyfit(t, bhp_returns[N-1:], K)\n",
    "poly_bhp = np.polyval( poly, t)\n",
    "plot(t, poly_bhp, lw = 2)\n",
    "plot(t, bhp_returns[N-1:], lw = 1)\n",
    "plot(t, smooth_bhp[N-1: -N + 1], lw = 2)\n",
    "show()"
   ]
  }
 ],
 "metadata": {
  "kernelspec": {
   "display_name": "Python 3",
   "language": "python",
   "name": "python3"
  },
  "language_info": {
   "codemirror_mode": {
    "name": "ipython",
    "version": 3
   },
   "file_extension": ".py",
   "mimetype": "text/x-python",
   "name": "python",
   "nbconvert_exporter": "python",
   "pygments_lexer": "ipython3",
   "version": "3.6.0"
  }
 },
 "nbformat": 4,
 "nbformat_minor": 2
}
